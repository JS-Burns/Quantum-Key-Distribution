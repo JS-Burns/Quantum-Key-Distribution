{
 "cells": [
  {
   "cell_type": "markdown",
   "metadata": {},
   "source": [
    "# Quantum Key Distribution\n",
    "\n",
    "Quantum cryptography or quantum key distribution (QKD) is a procedure that enables provably secure distribution of private information. "
   ]
  },
  {
   "cell_type": "markdown",
   "metadata": {},
   "source": [
    "## The BB84 Protocol\n",
    "\n",
    "In this demo, we introduce the [BB84 Protocol](https://arxiv.org/abs/quant-ph/0003004), which is one of the earliest QKD protocols.\n",
    "\n",
    "***\n",
    "### Contributors\n",
    "Faris Sbahi, Kya Sorli, Samantha Washko"
   ]
  },
  {
   "cell_type": "markdown",
   "metadata": {},
   "source": [
    "$$\n",
    "\\newcommand{\\ket}[1]{\\left|{#1}\\right\\rangle}\n",
    "\\newcommand{\\bra}[1]{\\left\\langle{#1}\\right|}\n",
    "$$\n",
    "\n",
    "## [The Algorithm](http://www-reynal.ensea.fr/docs/iq/QC10th.pdf)\n",
    "\n",
    "1. Alice choose $(4 + \\delta)n$ random data bits\n",
    "2. Alice chooses a random $(4 + \\delta)n$-bit string $b$. She encodes each data bit as $\\{ \\ket{0}, \\ket{1}\\}$ if the corresponding bit of $b$ is 0 or $\\{ \\ket{+}, \\ket{-}\\}$ if $b$ is 1.\n",
    "3. Alice sends the resulting state to Bob\n",
    "4. Bob receives the $(4 + \\delta)n$ qubits, announces this fact, and measures each qubit in the $X$ or $Z$ basis at random. \n",
    "5. Alice announces $b$\n",
    "6. Alice and Bob discard any bits where Bob measured a different basis than Alice prepared. With high probability, there are at least $2n$ bits left (if not, abort the protocol). They keep $2n$ bits.\n",
    "7. Alice selects a subset of $n$ bits that will serve as a check on Eve's interference, and tells bob which bits she selected.\n",
    "8. Alice and Bob announce and compare the values of the $n$ check bits. If more than an acceptable number disagree, they abort the protocol.\n",
    "9. Alice and Bob perform information reconciliation and privacy amplification on the remaining $n$ bits to obtains $m$ shared key bits. \n",
    "\n",
    "Here we let $\\delta = 0.5$. See the writeup for a bound on the error in the check bits and remaining $n$ bits using this $\\delta$. "
   ]
  },
  {
   "cell_type": "markdown",
   "metadata": {},
   "source": [
    "## The Circuit <a id=\"circuit\"></a>\n",
    "\n",
    "We can implement this protocol with QISKit by first preparing the environment."
   ]
  },
  {
   "cell_type": "code",
   "execution_count": 1,
   "metadata": {
    "collapsed": true
   },
   "outputs": [],
   "source": [
    "#initialization\n",
    "import sys\n",
    "import matplotlib.pyplot as plt\n",
    "%matplotlib inline\n",
    "import numpy as np\n",
    "import random \n",
    "import numpy as np\n",
    "\n",
    "# importing the QISKit\n",
    "from qiskit import QuantumProgram\n",
    "\n",
    "qx_config = {\n",
    "        \"APItoken\":\"e37f539f37fd1ac9d17f25b0803dcc567fe1230ef7ae5580e58f9d5f28c6c4c685eeec806840b6ae62f99a947d2456d488dedc86e960d09d392ff0e071a4db71\",\n",
    "        \"url\":\"https://quantumexperience.ng.bluemix.net/api\"}\n",
    "    \n",
    "# import basic plot tools\n",
    "from qiskit.tools.visualization import plot_histogram\n",
    "\n",
    "#set api\n",
    "from IBMQuantumExperience import IBMQuantumExperience\n",
    "api = IBMQuantumExperience(token=qx_config['APItoken'], config={'url': qx_config['url']})\n",
    "\n",
    "#prepare backends\n",
    "from qiskit.backends import discover_local_backends, discover_remote_backends, get_backend_instance\n",
    "remote_backends = discover_remote_backends(api) #we have to call this to connect to remote backends\n",
    "local_backends = discover_local_backends()"
   ]
  },
  {
   "cell_type": "markdown",
   "metadata": {},
   "source": [
    "We now define the actions that Alice and Bob can take as methods of their respective classes. "
   ]
  },
  {
   "cell_type": "code",
   "execution_count": 152,
   "metadata": {},
   "outputs": [],
   "source": [
    "class Alice:\n",
    "    def prepareState(self, n, delta):\n",
    "        \n",
    "        nQubits = int((4 + delta)*n) # number of physical qubits\n",
    "        \n",
    "        a = np.random.randint(2, size=(nQubits,))      # random data bits\n",
    "        b = np.random.randint(2, size=(nQubits,))\n",
    "        \n",
    "        print(\"Alice has generated random secret key, a: \", a)\n",
    "        print(\"She will arbitrarily encode these bits using random basis, b: \", b)\n",
    "        return (a, b)\n",
    "    \n",
    "class Bob:\n",
    "    def generateRandomBasis(self, n):\n",
    "        nQubits = int((4 + delta)*n) # number of physical qubits\n",
    "        b = np.random.randint(2, size=(nQubits,))\n",
    "        \n",
    "        print(\"Bob has chosen random basis, b': \", b)\n",
    "        return b\n",
    "        \n",
    "class Eve:\n",
    "    def generateRandomBasis(self, n):\n",
    "        nQubits = int((4 + delta)*n) # number of physical qubits\n",
    "        b = np.random.randint(2, size=(nQubits,))\n",
    "        \n",
    "        print(\"Eve has chosen random basis: \", b)\n",
    "        return b"
   ]
  },
  {
   "cell_type": "markdown",
   "metadata": {},
   "source": [
    "We then use QISKit and the above classes to simulate key exchange between Alice and Bob.\n",
    "\n",
    "We construct two circuits: BB84 which has no eavesdroppers and BB84-Eve where Eve eavesdrops by performing measurements before the qubits reach Bob.\n",
    "\n",
    "Note that we choose $n=4$ (key length) and $\\delta = 0$ (justified given that we aren't communicating over a noisy channel) for our experiment. We choose a small key length due to our computational constraints. In practice, one would use a much larger key size."
   ]
  },
  {
   "cell_type": "code",
   "execution_count": 167,
   "metadata": {},
   "outputs": [],
   "source": [
    "def BB84Program():\n",
    "    qp = QuantumProgram()\n",
    "    \n",
    "    # key length\n",
    "    n = 4\n",
    "    # error slack\n",
    "    delta = 0\n",
    "    # number of physical qubits\n",
    "    nQubits = int((4 + delta)*n)\n",
    "    \n",
    "    # Creating registers\n",
    "    # qubits for querying the oracle and finding the hidden integer\n",
    "    qr_1 = qp.create_quantum_register(\"qr_1\", nQubits)\n",
    "    # for recording the measurement on qr\n",
    "    cr_1 = qp.create_classical_register(\"cr_1\", nQubits)\n",
    "    \n",
    "    # qubits for querying the oracle and finding the hidden integer\n",
    "    qr_2 = qp.create_quantum_register(\"qr_2\", nQubits)\n",
    "    # for recording the measurement on qr\n",
    "    cr_2 = qp.create_classical_register(\"cr_2\", nQubits)\n",
    "    \n",
    "    print(qr, cr)\n",
    "    \n",
    "    circuitName = \"BB84\"\n",
    "    circuitName_eve = \"BB84-Eve\"\n",
    "    bbCircuit = qp.create_circuit(circuitName, [qr_1], [cr_1])\n",
    "    bb_eve_Circuit = qp.create_circuit(circuitName_eve, [qr_2], [cr_2])\n",
    "    \n",
    "    # Initialize Alice and Bob ... and Eve! \n",
    "    alice = Alice()\n",
    "    bob = Bob()\n",
    "    eve = Eve()\n",
    "    \n",
    "    # Have Alice generate secrets a, b with chosen n and delta\n",
    "    (a, b) = alice.prepareState(n, delta)\n",
    "    \n",
    "    # Apply Hadamard gates before querying the oracle\n",
    "    for i in range(nQubits):\n",
    "        if a[i] == 1:\n",
    "            # X gates will send |0> -> |1> \n",
    "            bbCircuit.x(qr_1[i])\n",
    "            bb_eve_Circuit.x(qr_2[i])\n",
    "    \n",
    "    for i in range(nQubits):\n",
    "        if b[i] == 1:\n",
    "            # encode in X basis\n",
    "            bbCircuit.h(qr_1[i])\n",
    "            bb_eve_Circuit.h(qr_2[i])\n",
    "    \n",
    "    # Bob generates his random basis string, b'\n",
    "    b_prime = bob.generateRandomBasis(n)\n",
    "    \n",
    "    # Eve also takes a stab at guessing the basis\n",
    "    b_eve = eve.generateRandomBasis(n)\n",
    "    \n",
    "    # Eve makes some measurements !\n",
    "    for i in range(nQubits):\n",
    "        if b_eve[i] == 1:\n",
    "            # measure in X basis (otherwise Eve measures in Z)\n",
    "            bb_eve_Circuit.h(qr_2[i])\n",
    "    \n",
    "    # Bob measures the qubits based off of b'\n",
    "    \n",
    "    for i in range(nQubits):\n",
    "        if b_prime[i] == 1:\n",
    "            # measure in X basis (as opposed to Z)\n",
    "            bbCircuit.h(qr_1[i])\n",
    "            bb_eve_Circuit.h(qr_2[i])\n",
    "        \n",
    "    for i in range(nQubits):\n",
    "        bbCircuit.measure(qr_1[i], cr_1[i])\n",
    "        bb_eve_Circuit.measure(qr_2[i], cr_2[i])\n",
    "        \n",
    "    return qp"
   ]
  },
  {
   "cell_type": "markdown",
   "metadata": {},
   "source": [
    "Once Bob performs his measurements, using this circuit, we can perform steps 5-9. We define a method to do these steps."
   ]
  },
  {
   "cell_type": "code",
   "execution_count": 171,
   "metadata": {},
   "outputs": [],
   "source": [
    "def determineKey(a, bob_meas, b, b_prime):\n",
    "    # Now, it is safe for Alice to announce b to Bob. They can then determine in which places their b and b' agree.\n",
    "    # Let's call the indices where b_i = b'_i, array x\n",
    "    x = [b_i == b_prime_i for (b_i, b_prime_i) in zip(b, b_prime)]\n",
    "    \n",
    "    # The size of x should be 1/2 nQubits, in expectation\n",
    "    if np.sum(x) < n / 2:\n",
    "        print(\"Aborting protocol. Less than 2n bits match between b and b'\")\n",
    "    else:\n",
    "        # We can then use this to discard the key bits accordingly (on each side)\n",
    "    \n",
    "        # Alice's original secret key, a, subsetted where b and b' agree\n",
    "        alice_bits = a[x]\n",
    "        # Bob's measurement in his random basis b', subsetted where b and b' agree\n",
    "        bob_bits = bob_meas[x]\n",
    "    \n",
    "        # Now, we can use half of these bits as \"check bits\" to see if there was any interference (announcing publicly)\n",
    "        # Let's just take the first n bits as check bits, WLOG\n",
    "        \n",
    "        check_alice = alice_bits[:n]\n",
    "        key_alice = alice_bits[-n:]\n",
    "        check_bob = bob_bits[:n]\n",
    "        key_bob = bob_bits[-n:]\n",
    "        \n",
    "        print(\"Alice has check bits: \", check_alice)\n",
    "        print(\"Bob has check bits: \", check_bob)\n",
    "        \n",
    "        # Now, they publicly determine the error in their check bits\n",
    "        mismatch = [k_a != k_b for (k_a, k_b) in zip(key_alice, key_bob)]\n",
    "        error = (np.sum(mismatch)) / n\n",
    "        \n",
    "        # Let's choose epsilon = 0.05 as our error threshold\n",
    "        epsilon = 0.05\n",
    "        if error > epsilon:\n",
    "            print(\"Interference detected... Aborting!\")\n",
    "        else:\n",
    "            print(\"Successfully exchanged private key: \", key_alice)"
   ]
  },
  {
   "cell_type": "markdown",
   "metadata": {},
   "source": [
    "## Experiment with Simulators\n",
    "\n",
    "We can run the above circuits in the simulator. This will gives us the results of Bob's measurements using his random basis, in both cases (with or without eavesdropping). If there is no noise or interference by Eve, then Bob's measurements should match up precisely with Alice's key $a$, at the qubits where Alice and Bob both chose the same basis. Hence, we can take this subset of Bob's measurement to use as check bits and key bits. \n",
    "\n",
    "We also show the probabilities of various outcomes Bob could see, which are computed by simulating the above circuit using the same $a$, $b$, and $b'$, $2^{10}$ times noting the number of occurences of each outcome. "
   ]
  },
  {
   "cell_type": "code",
   "execution_count": null,
   "metadata": {},
   "outputs": [
    {
     "name": "stdout",
     "output_type": "stream",
     "text": [
      "QuantumRegister(qr,16) ClassicalRegister(cr,16)\n",
      "Alice has generated random secret key, a:  [1 1 0 1 1 0 0 0 1 0 1 1 1 1 0 0]\n",
      "She will arbitrarily encode these bits using random basis, b:  [0 1 1 0 1 0 1 0 0 1 1 0 0 1 1 0]\n",
      "Bob has chosen random basis, b':  [0 0 1 0 0 0 1 1 0 1 1 0 0 1 1 0]\n",
      "Eve has chosen random basis:  [0 0 0 1 0 1 0 1 1 0 0 1 1 0 1 1]\n"
     ]
    }
   ],
   "source": [
    "# use local qasm simulator\n",
    "backend = 'ibmqx_hpc_qasm_simulator'\n",
    "\n",
    "qp = BB84Program()\n",
    "results = qp.execute([\"BB84\"], backend=backend, timeout=600)\n",
    "answer = results.get_counts(\"BB84\")\n",
    "\n",
    "results_eve = qp.execute([\"BB84-Eve\"], backend=backend, timeout=600)\n",
    "answer_eve = results_eve.get_counts(\"BB84-Eve\")\n",
    "\n",
    "print(\"Discrete distribution of potential measurements by Bob: \", answer)\n",
    "print(\"Discrete distribution of potential measurements by Bob with eavesdropping: \", answer_eve)"
   ]
  },
  {
   "cell_type": "markdown",
   "metadata": {},
   "source": [
    "Of course, Bob will not see a probability distribution, but rather one of these particular outcomes. Hence, we'll take one of these outcomes at random."
   ]
  },
  {
   "cell_type": "code",
   "execution_count": 170,
   "metadata": {},
   "outputs": [
    {
     "name": "stdout",
     "output_type": "stream",
     "text": [
      "Bob's measurement result:  [1 1 1 0 1 0 0 0 0 1 1 0 0 0 0 1]\n",
      "Bob's measurement result with eavesdropping:  [1 1 1 0 1 0 0 0 0 1 1 0 0 0 0 1]\n"
     ]
    }
   ],
   "source": [
    "bob_meas = list(random.choice(list(answer.keys())))\n",
    "bob_meas = list(map(int, bob_meas))\n",
    "bob_meas = np.array(bob_meas)\n",
    "bob_meas = bob_meas[::-1]\n",
    "print(\"Bob's measurement result: \", bob_meas)\n",
    "\n",
    "bob_meas_eve = list(random.choice(list(answer_eve.keys())))\n",
    "bob_meas_eve = list(map(int, bob_meas_eve))\n",
    "bob_meas_eve = np.array(bob_meas_eve)\n",
    "bob_meas_eve = bob_meas_eve[::-1]\n",
    "print(\"Bob's measurement result with eavesdropping: \", bob_meas)"
   ]
  },
  {
   "cell_type": "markdown",
   "metadata": {},
   "source": [
    "Now, we can use the above measurement to determine whether the key exchange was successful or not. In other words, Alice and Bob determine if their check bits agree in enough places so that they can conclude that their was no interference by Eve. \n",
    "\n",
    "First, they communicate over a classical channel to determine where their choices in random bases agreed."
   ]
  },
  {
   "cell_type": "code",
   "execution_count": 163,
   "metadata": {},
   "outputs": [
    {
     "name": "stdout",
     "output_type": "stream",
     "text": [
      "Key Exchange without eavesdropping: \n",
      "Alice has check bits:  [0 0 0 0]\n",
      "Bob has check bits:  [0 0 0 0]\n",
      "Successfully exchanged private key:  [1 1 1 0]\n",
      "Key Exchange with eavesdropping: \n",
      "Alice has check bits:  [0 0 0 0]\n",
      "Bob has check bits:  [0 1 1 0]\n",
      "Interference detected... Aborting!\n"
     ]
    }
   ],
   "source": [
    "print(\"Key Exchange without eavesdropping: \")\n",
    "determineKey(a, bob_meas, b, b_prime)\n",
    "print(\"Key Exchange with eavesdropping: \")\n",
    "determineKey(a, bob_meas_eve, b, b_prime)"
   ]
  },
  {
   "cell_type": "markdown",
   "metadata": {},
   "source": [
    "## Eavesdrop Detection"
   ]
  },
  {
   "cell_type": "code",
   "execution_count": null,
   "metadata": {
    "collapsed": true
   },
   "outputs": [],
   "source": []
  }
 ],
 "metadata": {
  "kernelspec": {
   "display_name": "Python 3",
   "language": "python",
   "name": "python3"
  },
  "language_info": {
   "codemirror_mode": {
    "name": "ipython",
    "version": 3
   },
   "file_extension": ".py",
   "mimetype": "text/x-python",
   "name": "python",
   "nbconvert_exporter": "python",
   "pygments_lexer": "ipython3",
   "version": "3.6.1"
  }
 },
 "nbformat": 4,
 "nbformat_minor": 2
}
